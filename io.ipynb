{
 "cells": [
  {
   "cell_type": "code",
   "execution_count": 3,
   "metadata": {},
   "outputs": [
    {
     "name": "stdout",
     "output_type": "stream",
     "text": [
      "Alex Mason\n"
     ]
    }
   ],
   "source": [
    "name = \"Alex Mason\"\n",
    "print(name)"
   ]
  },
  {
   "cell_type": "code",
   "execution_count": 5,
   "metadata": {},
   "outputs": [],
   "source": [
    "city = input('enter your city')"
   ]
  },
  {
   "cell_type": "code",
   "execution_count": 6,
   "metadata": {},
   "outputs": [],
   "source": [
    "college = input('enter your college')\n",
    "klass = input('enter your class')\n",
    "iq = input('enter your iq')"
   ]
  },
  {
   "cell_type": "code",
   "execution_count": 7,
   "metadata": {},
   "outputs": [
    {
     "name": "stdout",
     "output_type": "stream",
     "text": [
      "Alex Mason\n",
      "paris\n",
      "St xavier college\n",
      "9th\n",
      "99\n"
     ]
    }
   ],
   "source": [
    "print(name)\n",
    "print(city)\n",
    "print(college)\n",
    "print(klass)\n",
    "print(iq)"
   ]
  },
  {
   "cell_type": "code",
   "execution_count": 17,
   "metadata": {},
   "outputs": [
    {
     "name": "stdout",
     "output_type": "stream",
     "text": [
      "Alex Mason, paris, St xavier college, 9th, 99\n"
     ]
    }
   ],
   "source": [
    "print(name,city, college, klass, iq, sep=', ')"
   ]
  },
  {
   "cell_type": "code",
   "execution_count": 24,
   "metadata": {},
   "outputs": [
    {
     "data": {
      "text/plain": [
       "'hello {city}'"
      ]
     },
     "execution_count": 24,
     "metadata": {},
     "output_type": "execute_result"
    }
   ],
   "source": [
    "f'hello {city}'"
   ]
  },
  {
   "cell_type": "code",
   "execution_count": 25,
   "metadata": {},
   "outputs": [
    {
     "name": "stdout",
     "output_type": "stream",
     "text": [
      "hi, i am Alex Mason\n",
      "l live in paris\n",
      "i study in St xavier college\n",
      "i am in 9th\n",
      "my iq is 99\n"
     ]
    }
   ],
   "source": [
    "print(f'hi, i am {name}')\n",
    "print(f'l live in {city}')\n",
    "print(f'i study in {college}')\n",
    "print(f'i am in {klass}')\n",
    "print(f'my iq is {iq}')"
   ]
  },
  {
   "cell_type": "code",
   "execution_count": 26,
   "metadata": {},
   "outputs": [
    {
     "name": "stdout",
     "output_type": "stream",
     "text": [
      "hi, i am Alex Mason and i live in paris\n"
     ]
    }
   ],
   "source": [
    "print(f'hi, i am {name} and i live in {city}')"
   ]
  },
  {
   "cell_type": "code",
   "execution_count": null,
   "metadata": {},
   "outputs": [],
   "source": []
  }
 ],
 "metadata": {
  "kernelspec": {
   "display_name": "base",
   "language": "python",
   "name": "python3"
  },
  "language_info": {
   "codemirror_mode": {
    "name": "ipython",
    "version": 3
   },
   "file_extension": ".py",
   "mimetype": "text/x-python",
   "name": "python",
   "nbconvert_exporter": "python",
   "pygments_lexer": "ipython3",
   "version": "3.10.11"
  },
  "orig_nbformat": 4
 },
 "nbformat": 4,
 "nbformat_minor": 2
}
