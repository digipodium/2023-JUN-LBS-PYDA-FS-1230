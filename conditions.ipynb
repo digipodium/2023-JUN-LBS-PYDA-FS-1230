{
 "cells": [
  {
   "cell_type": "code",
   "execution_count": 1,
   "metadata": {},
   "outputs": [],
   "source": [
    "x = 100"
   ]
  },
  {
   "cell_type": "code",
   "execution_count": 7,
   "metadata": {},
   "outputs": [],
   "source": [
    "if x > 1000 :\n",
    "    print(\"x is greater than 1000\")"
   ]
  },
  {
   "cell_type": "code",
   "execution_count": 8,
   "metadata": {},
   "outputs": [],
   "source": [
    "name = 'William Shakespeare'"
   ]
  },
  {
   "cell_type": "code",
   "execution_count": 10,
   "metadata": {},
   "outputs": [
    {
     "data": {
      "text/plain": [
       "False"
      ]
     },
     "execution_count": 10,
     "metadata": {},
     "output_type": "execute_result"
    }
   ],
   "source": [
    "'will' in name"
   ]
  },
  {
   "cell_type": "code",
   "execution_count": 14,
   "metadata": {},
   "outputs": [
    {
     "name": "stdout",
     "output_type": "stream",
     "text": [
      "spear found in name\n"
     ]
    }
   ],
   "source": [
    "if 'spear' in name:\n",
    "    print('spear found in name')"
   ]
  },
  {
   "cell_type": "code",
   "execution_count": 15,
   "metadata": {},
   "outputs": [
    {
     "name": "stdout",
     "output_type": "stream",
     "text": [
      "you are a child\n",
      "you cannot vote\n",
      "you can vote in 5 years\n"
     ]
    }
   ],
   "source": [
    "age = int(input('what is your age:'))\n",
    "if age >= 18:\n",
    "    print('you are an adult')\n",
    "    print('you can vote')\n",
    "else:\n",
    "    print('you are a child')\n",
    "    print('you cannot vote')\n",
    "    print('you can vote in', 18 - age, 'years')"
   ]
  },
  {
   "cell_type": "code",
   "execution_count": 16,
   "metadata": {},
   "outputs": [
    {
     "name": "stdout",
     "output_type": "stream",
     "text": [
      "welcome to the 🍦🏪🍦\n",
      "here is your chocolate 🍦\n"
     ]
    }
   ],
   "source": [
    "# if elif else ladder\n",
    "print('welcome to the 🍦🏪🍦')\n",
    "flavour = input('what flavour do you want?')\n",
    "if flavour == 'vanilla':\n",
    "    print('here is your vanilla 🍦')\n",
    "elif flavour == 'chocolate':\n",
    "    print('here is your chocolate 🍦')\n",
    "elif flavour == 'strawberry':\n",
    "    print('here is your strawberry 🍦')\n",
    "elif flavour == 'butterscotch':\n",
    "    print('here is your butterscotch 🍦')\n",
    "else:\n",
    "    print('sorry we do not have', flavour, 'flavour')"
   ]
  },
  {
   "cell_type": "code",
   "execution_count": null,
   "metadata": {},
   "outputs": [],
   "source": []
  }
 ],
 "metadata": {
  "kernelspec": {
   "display_name": "Python 3",
   "language": "python",
   "name": "python3"
  },
  "language_info": {
   "codemirror_mode": {
    "name": "ipython",
    "version": 3
   },
   "file_extension": ".py",
   "mimetype": "text/x-python",
   "name": "python",
   "nbconvert_exporter": "python",
   "pygments_lexer": "ipython3",
   "version": "3.10.11"
  },
  "orig_nbformat": 4
 },
 "nbformat": 4,
 "nbformat_minor": 2
}
