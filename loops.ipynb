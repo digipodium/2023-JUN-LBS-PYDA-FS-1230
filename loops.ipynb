{
 "cells": [
  {
   "attachments": {},
   "cell_type": "markdown",
   "metadata": {},
   "source": [
    "# for and while loops\n",
    "### for - step based loop\n",
    "```\n",
    "for i in range(10):\n",
    "    print(i)\n",
    "``` \n",
    "- used for\n",
    "    - iterating over a sequence (list, tuple, string)\n",
    "    - iterating over a range\n",
    "### while - condition based loop\n",
    "```\n",
    "i = 0\n",
    "while i < 10:\n",
    "    print(i)\n",
    "    i += 1\n",
    "```\n",
    "- used for\n",
    "    - iterating until a condition is met\n",
    "    - iterating until a condition is no longer met\n",
    "    - iterating forever (if you don't break out of it)"
   ]
  },
  {
   "cell_type": "code",
   "execution_count": 11,
   "metadata": {},
   "outputs": [],
   "source": [
    "movies = ['Shrek', 'Kungfu panda', 'Final Fantasy',\n",
    "          'How to train your dragon', 'Ice age',\n",
    "          'The lion king', 'The little mermaid',\n",
    "          'the jungle book', 'Aladdin', 'The little prince']"
   ]
  },
  {
   "cell_type": "code",
   "execution_count": 12,
   "metadata": {},
   "outputs": [
    {
     "name": "stdout",
     "output_type": "stream",
     "text": [
      "total movies = 10\n"
     ]
    }
   ],
   "source": [
    "print(f'total movies = {len(movies)}')"
   ]
  },
  {
   "cell_type": "code",
   "execution_count": 13,
   "metadata": {},
   "outputs": [
    {
     "name": "stdout",
     "output_type": "stream",
     "text": [
      "Shrek\n",
      "Kungfu panda\n",
      "Final Fantasy\n",
      "How to train your dragon\n",
      "Ice age\n",
      "The lion king\n",
      "The little mermaid\n",
      "the jungle book\n",
      "Aladdin\n",
      "The little prince\n"
     ]
    }
   ],
   "source": [
    "for movie in movies:\n",
    "    print(movie)"
   ]
  },
  {
   "cell_type": "code",
   "execution_count": 24,
   "metadata": {},
   "outputs": [
    {
     "name": "stdout",
     "output_type": "stream",
     "text": [
      "Shrek                          5\n",
      "Kungfu panda                   12\n",
      "Final Fantasy                  13\n",
      "How to train your dragon       24\n",
      "Ice age                        7\n",
      "The lion king                  13\n",
      "The little mermaid             18\n",
      "the jungle book                15\n",
      "Aladdin                        7\n",
      "The little prince              17\n"
     ]
    }
   ],
   "source": [
    "for movie in movies:\n",
    "    print(f'{movie:30} {len(movie)}')"
   ]
  },
  {
   "cell_type": "code",
   "execution_count": 26,
   "metadata": {},
   "outputs": [
    {
     "name": "stdout",
     "output_type": "stream",
     "text": [
      "32 1024\n",
      "56 3136\n",
      "23 529\n",
      "56 3136\n",
      "12 144\n",
      "12 144\n",
      "67 4489\n",
      "56 3136\n",
      "7 49\n",
      "2 4\n"
     ]
    }
   ],
   "source": [
    "nums = [32,56,23,56,12,12,67,56,7,2]\n",
    "for i in nums:\n",
    "    print(i, i**2)"
   ]
  },
  {
   "cell_type": "code",
   "execution_count": 29,
   "metadata": {},
   "outputs": [
    {
     "name": "stdout",
     "output_type": "stream",
     "text": [
      "32 1024\n",
      "56 3136\n",
      "56 3136\n",
      "12 144\n",
      "12 144\n",
      "56 3136\n",
      "2 4\n"
     ]
    }
   ],
   "source": [
    "for i in nums:\n",
    "    if i % 2 == 0:\n",
    "        print(i, i**2)"
   ]
  },
  {
   "cell_type": "code",
   "execution_count": 30,
   "metadata": {},
   "outputs": [
    {
     "data": {
      "text/plain": [
       "323"
      ]
     },
     "execution_count": 30,
     "metadata": {},
     "output_type": "execute_result"
    }
   ],
   "source": [
    "sum(nums)"
   ]
  },
  {
   "cell_type": "code",
   "execution_count": 33,
   "metadata": {},
   "outputs": [
    {
     "name": "stdout",
     "output_type": "stream",
     "text": [
      "226\n"
     ]
    }
   ],
   "source": [
    "total_evens = 0\n",
    "for i in nums:\n",
    "    if i % 2 == 0:\n",
    "        total_evens += i\n",
    "print(total_evens)"
   ]
  },
  {
   "cell_type": "code",
   "execution_count": 38,
   "metadata": {},
   "outputs": [
    {
     "name": "stdout",
     "output_type": "stream",
     "text": [
      "32\n",
      "56\n",
      "23\n",
      "56\n",
      "12\n",
      "12\n",
      "67\n"
     ]
    }
   ],
   "source": [
    "for i in nums:\n",
    "    print(i)\n",
    "    if i > 60:\n",
    "        break"
   ]
  },
  {
   "cell_type": "code",
   "execution_count": 48,
   "metadata": {},
   "outputs": [
    {
     "name": "stdout",
     "output_type": "stream",
     "text": [
      "apple\n",
      "potato\n",
      "banana\n"
     ]
    }
   ],
   "source": [
    "x = [\"apple\",'potato','banana','','orange','mango']\n",
    "for item in x:\n",
    "    if len(item) == 0:\n",
    "        break\n",
    "    print(item) "
   ]
  },
  {
   "cell_type": "code",
   "execution_count": 50,
   "metadata": {},
   "outputs": [
    {
     "name": "stdout",
     "output_type": "stream",
     "text": [
      "Login successful\n"
     ]
    }
   ],
   "source": [
    "errors = 0\n",
    "while True:\n",
    "    username = input('Enter username: ')\n",
    "    password = input('Enter password: ')\n",
    "    if username == 'admin' and password == 'secret':\n",
    "        print('Login successful')\n",
    "        break\n",
    "    elif errors == 3:\n",
    "        print('Too many errors')\n",
    "        break\n",
    "    else:\n",
    "        print('Invalid username/password')\n",
    "        errors += 1\n"
   ]
  },
  {
   "cell_type": "code",
   "execution_count": 1,
   "metadata": {},
   "outputs": [],
   "source": [
    "x = [\n",
    "    ['Warbreaker', 4999],\n",
    "    ['The way of kings', 5999],\n",
    "    ['Words of radiance', 5999],\n",
    "    ['Oathbringer', 5999],\n",
    "    ['Rhythm of war', 5999],\n",
    "]"
   ]
  },
  {
   "cell_type": "code",
   "execution_count": 3,
   "metadata": {},
   "outputs": [
    {
     "name": "stdout",
     "output_type": "stream",
     "text": [
      "Warbreaker\n",
      "4999\n",
      "---\n",
      "The way of kings\n",
      "5999\n",
      "---\n",
      "Words of radiance\n",
      "5999\n",
      "---\n",
      "Oathbringer\n",
      "5999\n",
      "---\n",
      "Rhythm of war\n",
      "5999\n",
      "---\n"
     ]
    }
   ],
   "source": [
    "for item in x:\n",
    "    for data in item:\n",
    "        print(data)\n",
    "    print('---')"
   ]
  },
  {
   "cell_type": "code",
   "execution_count": null,
   "metadata": {},
   "outputs": [],
   "source": []
  }
 ],
 "metadata": {
  "kernelspec": {
   "display_name": "base",
   "language": "python",
   "name": "python3"
  },
  "language_info": {
   "codemirror_mode": {
    "name": "ipython",
    "version": 3
   },
   "file_extension": ".py",
   "mimetype": "text/x-python",
   "name": "python",
   "nbconvert_exporter": "python",
   "pygments_lexer": "ipython3",
   "version": "3.10.11"
  },
  "orig_nbformat": 4
 },
 "nbformat": 4,
 "nbformat_minor": 2
}
